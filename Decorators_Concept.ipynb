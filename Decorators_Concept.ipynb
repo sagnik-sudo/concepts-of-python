{
  "nbformat": 4,
  "nbformat_minor": 0,
  "metadata": {
    "colab": {
      "provenance": [],
      "authorship_tag": "ABX9TyMVjNDUsyEJSbOBrZi3OZGk",
      "include_colab_link": true
    },
    "kernelspec": {
      "name": "python3",
      "display_name": "Python 3"
    },
    "language_info": {
      "name": "python"
    }
  },
  "cells": [
    {
      "cell_type": "markdown",
      "metadata": {
        "id": "view-in-github",
        "colab_type": "text"
      },
      "source": [
        "<a href=\"https://colab.research.google.com/github/sagnik-sudo/Basics-of-Algo/blob/main/Decorators_Concept.ipynb\" target=\"_parent\"><img src=\"https://colab.research.google.com/assets/colab-badge.svg\" alt=\"Open In Colab\"/></a>"
      ]
    },
    {
      "cell_type": "code",
      "execution_count": 2,
      "metadata": {
        "colab": {
          "base_uri": "https://localhost:8080/"
        },
        "id": "jGoXbCAqvy1r",
        "outputId": "f797357b-f823-4c4e-99fe-aea51e2201d2"
      },
      "outputs": [
        {
          "output_type": "stream",
          "name": "stdout",
          "text": [
            "Executing now\n",
            "I am Sagnik\n"
          ]
        }
      ],
      "source": [
        "def dec1(func1):\n",
        "  print(\"Executing now\")\n",
        "  return func1\n",
        "\n",
        "@dec1\n",
        "def who_am_i():\n",
        "  print(\"I am Sagnik\")\n",
        "\n",
        "who_am_i()\n",
        "  "
      ]
    },
    {
      "cell_type": "code",
      "source": [
        "def dec1(func1):\n",
        "  def exec_now():\n",
        "    print(\"Executing now\")\n",
        "    func1()\n",
        "    print(\"Executed\")\n",
        "  return exec_now\n",
        "\n",
        "@dec1\n",
        "def who_am_i():\n",
        "  print(\"I am Sagnik\")\n",
        "\n",
        "who_am_i()\n",
        "  "
      ],
      "metadata": {
        "colab": {
          "base_uri": "https://localhost:8080/"
        },
        "id": "czLTmK_9wh2p",
        "outputId": "b0827dc2-c20e-42a7-c1e7-1d6601518b1e"
      },
      "execution_count": 5,
      "outputs": [
        {
          "output_type": "stream",
          "name": "stdout",
          "text": [
            "Executing now\n",
            "I am Sagnik\n",
            "Executed\n"
          ]
        }
      ]
    }
  ]
}